{
 "cells": [
  {
   "cell_type": "markdown",
   "id": "03c5128d",
   "metadata": {},
   "source": [
    "# Assigment_1"
   ]
  },
  {
   "cell_type": "markdown",
   "id": "a234a704",
   "metadata": {},
   "source": [
    "1. In the below elements which of them are values or an expression? eg:- values can be\n",
    "integer or string and expressions will be mathematical operators."
   ]
  },
  {
   "cell_type": "raw",
   "id": "f5839dc9",
   "metadata": {},
   "source": [
    "'*' - Expression(multiplication mathematical operator)\n",
    "'hello' - Value(String)\n",
    "'-87.8' - Value(Float)\n",
    "'-' - Expression(Sunbstraction Operator)\n",
    "'/' - Expression(Division Operator)\n",
    "'+' - Expression(Addition Operator)\n",
    "'6' - Value (Integer)"
   ]
  },
  {
   "cell_type": "markdown",
   "id": "1eb0494e",
   "metadata": {},
   "source": [
    "2. What is the difference between string and variable?"
   ]
  },
  {
   "cell_type": "raw",
   "id": "b210e4bb",
   "metadata": {},
   "source": [
    "String = It is the type of information/ piece of data we store.We denote the string with single or double qoute on bothe the side of the string.\n",
    "Varible = It is a pointer where we store our data. Data could be in any form integer, string etc."
   ]
  },
  {
   "cell_type": "markdown",
   "id": "be6956a5",
   "metadata": {},
   "source": [
    "3. Describe three different data types."
   ]
  },
  {
   "cell_type": "raw",
   "id": "76fae316",
   "metadata": {},
   "source": [
    "Int - Numeric value consider as a int data type. eg- 4,6,1 etc\n",
    "Float - Decimal Value consider as Float Data type . eg- 4.56, 1.22 etc\n",
    "Boolean - True(1) or False(0) consider as Boolean data type."
   ]
  },
  {
   "cell_type": "markdown",
   "id": "58c1c644",
   "metadata": {},
   "source": [
    "4. What is an expression made up of? What do all expressions do?"
   ]
  },
  {
   "cell_type": "raw",
   "id": "7c6fca59",
   "metadata": {},
   "source": [
    "An expression is a combination of operators and operands that is interpreted to produce some other value.The Expression used to do the mathematical operation additon , substraction etc and string operation like concat etc"
   ]
  },
  {
   "cell_type": "markdown",
   "id": "e9c60a58",
   "metadata": {},
   "source": [
    "5. This assignment statements, like spam = 10. What is the difference between an\n",
    "expression and a statement?"
   ]
  },
  {
   "cell_type": "raw",
   "id": "41816399",
   "metadata": {},
   "source": [
    "here spam = 10, means spam is a variable where we store piece of data and 10 is a value that is stored in spam. \n",
    "Expression can be built using operator and provide an new output using mathematical expression."
   ]
  },
  {
   "cell_type": "markdown",
   "id": "9c305114",
   "metadata": {},
   "source": [
    "6. After running the following code, what does the variable bacon contain?\n",
    "bacon = 22\n",
    "bacon + 1"
   ]
  },
  {
   "cell_type": "raw",
   "id": "d70c8ae1",
   "metadata": {},
   "source": [
    "Bacon  = 22\n",
    "Bacon + 1 = 22 + 1 = 23"
   ]
  },
  {
   "cell_type": "markdown",
   "id": "527241c8",
   "metadata": {},
   "source": [
    "7. What should the values of the following two terms be?\n",
    "'spam' + 'spamspam'  , \n",
    "'spam' * 3"
   ]
  },
  {
   "cell_type": "raw",
   "id": "95c3c52d",
   "metadata": {},
   "source": [
    "'spam' + 'spamspam' = spamspamspam\n",
    "'spam'* 3 = spamspamspam"
   ]
  },
  {
   "cell_type": "markdown",
   "id": "f7eb904d",
   "metadata": {},
   "source": [
    "8. Why is eggs a valid variable name while 100 is invalid?"
   ]
  },
  {
   "cell_type": "raw",
   "id": "d54e68ad",
   "metadata": {},
   "source": [
    "100 is a int value that can not be consider as a variable should be strat with alpha value or speciacl charater like (_)"
   ]
  },
  {
   "cell_type": "markdown",
   "id": "ec2c0fd5",
   "metadata": {},
   "source": [
    "9. What three functions can be used to get the integer, floating-point number, or string\n",
    "version of a value?"
   ]
  },
  {
   "cell_type": "raw",
   "id": "b36f0889",
   "metadata": {},
   "source": [
    "int() , float() , and str( )"
   ]
  },
  {
   "cell_type": "markdown",
   "id": "a6667a32",
   "metadata": {},
   "source": [
    "10. Why does this expression cause an error? How can you fix it?\n",
    "'I have eaten' + 99 + 'burritos'"
   ]
  },
  {
   "cell_type": "raw",
   "id": "5985926a",
   "metadata": {},
   "source": [
    "We can not use '+' operator with different data type there are two types of data type integer and string.\n",
    "We need to convert the integer data type to string than it could be fix.\n",
    "'I have eaten' +'99'+'burritos'\n",
    "'I have eaten + str(99) + 'burritos' "
   ]
  },
  {
   "cell_type": "code",
   "execution_count": 19,
   "id": "90e20d9f",
   "metadata": {},
   "outputs": [
    {
     "data": {
      "text/plain": [
       "'C:\\\\Users\\\\HP'"
      ]
     },
     "execution_count": 19,
     "metadata": {},
     "output_type": "execute_result"
    }
   ],
   "source": [
    "pwd"
   ]
  },
  {
   "cell_type": "code",
   "execution_count": null,
   "id": "ef5daf23",
   "metadata": {},
   "outputs": [],
   "source": []
  }
 ],
 "metadata": {
  "kernelspec": {
   "display_name": "Python 3 (ipykernel)",
   "language": "python",
   "name": "python3"
  },
  "language_info": {
   "codemirror_mode": {
    "name": "ipython",
    "version": 3
   },
   "file_extension": ".py",
   "mimetype": "text/x-python",
   "name": "python",
   "nbconvert_exporter": "python",
   "pygments_lexer": "ipython3",
   "version": "3.9.7"
  }
 },
 "nbformat": 4,
 "nbformat_minor": 5
}
