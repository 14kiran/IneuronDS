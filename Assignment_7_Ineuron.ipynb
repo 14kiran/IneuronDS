{
 "cells": [
  {
   "cell_type": "markdown",
   "id": "661f156a",
   "metadata": {},
   "source": [
    "### 1. What is the name of the feature responsible for generating Regex objects?"
   ]
  },
  {
   "cell_type": "markdown",
   "id": "e0cc9616",
   "metadata": {},
   "source": [
    "The 're' module is responsible for generating regular expression (Regex) objects. The 're' module provides a set of functions and methods that can be used to create and work with regular expressions. The re.compile() function is specifically used to create a Regex object by compiling a regular expression pattern. "
   ]
  },
  {
   "cell_type": "markdown",
   "id": "9b53f174",
   "metadata": {},
   "source": [
    "### 2. Why do raw strings often appear in Regex objects?"
   ]
  },
  {
   "cell_type": "markdown",
   "id": "7f4d5108",
   "metadata": {},
   "source": [
    "Raw strings often appear in Regex objects because regular expressions often contain special characters such as backslashes (\\), which are also used to represent escape sequences in Python string literals. By using a raw string, you can avoid the need to escape special characters in the regular expression pattern."
   ]
  },
  {
   "cell_type": "code",
   "execution_count": 1,
   "id": "cf9ed0b8",
   "metadata": {},
   "outputs": [],
   "source": [
    "import re\n",
    "\n",
    "pattern = r'\\d+'\n",
    "regex = re.compile(pattern)"
   ]
  },
  {
   "cell_type": "markdown",
   "id": "19ff80fc",
   "metadata": {},
   "source": [
    "### 3. What is the return value of the search() method?"
   ]
  },
  {
   "cell_type": "markdown",
   "id": "2e9c0855",
   "metadata": {},
   "source": [
    "The search() method is used to search a string for a match to a regular expression pattern, and it returns a match object if a match is found, otherwise it returns None. The match object contains information about the match, such as the starting and ending positions of the match within the string."
   ]
  },
  {
   "cell_type": "markdown",
   "id": "62600614",
   "metadata": {},
   "source": [
    "### 4. From a Match item, how do you get the actual strings that match the pattern?"
   ]
  },
  {
   "cell_type": "markdown",
   "id": "d0f4b601",
   "metadata": {},
   "source": [
    "You can get the actual string(s) that match the pattern from a match object using the group() method. The group() method returns the matched string(s) or a specific subgroup within the match."
   ]
  },
  {
   "cell_type": "markdown",
   "id": "56a864e4",
   "metadata": {},
   "source": [
    "### 5. In the regex which created from the r'(\\d\\d\\d)-(\\d\\d\\d-\\d\\d\\d\\d)', what does group zero cover? Group 2? Group 1?\n"
   ]
  },
  {
   "cell_type": "markdown",
   "id": "582fdda9",
   "metadata": {},
   "source": [
    "The regular expression r'(\\d\\d\\d)-(\\d\\d\\d-\\d\\d\\d\\d)' creates two capturing groups:\n",
    "\n",
    "Group 1: (\\d\\d\\d): matches three digits (0-9) separated by hyphen.\n",
    "\n",
    "Group 2: (\\d\\d\\d-\\d\\d\\d\\d): matches four digits (0-9) separated by hyphen.\n",
    "\n",
    "Group 0 (the entire match) covers the entire string that matches the pattern, which includes both groups 1 and 2, as well as any characters that are matched outside of the capturing groups."
   ]
  },
  {
   "cell_type": "markdown",
   "id": "9583b2a6",
   "metadata": {},
   "source": [
    "### 6. In standard expression syntax, parentheses and intervals have distinct meanings. How can you tell a regex that you want it to fit real parentheses and periods?"
   ]
  },
  {
   "cell_type": "markdown",
   "id": "f0f7a588",
   "metadata": {},
   "source": [
    "To match literal parentheses and periods (i.e., to treat them as ordinary characters and not as special regex syntax), you can use the backslash character \"\" to escape them in your regular expression.\n",
    "\n",
    "Here are some examples:\n",
    "\n",
    "To match a left parenthesis: '\\('.\n",
    "\n",
    "To match a right parenthesis: '\\)'.\n",
    "\n",
    "To match a period: '\\.'."
   ]
  },
  {
   "cell_type": "markdown",
   "id": "b60877d6",
   "metadata": {},
   "source": [
    "### 7. The findall() method returns a string list or a list of string tuples. What causes it to return one of the two options?"
   ]
  },
  {
   "cell_type": "markdown",
   "id": "c5696d8e",
   "metadata": {},
   "source": [
    "The findall() method returns a list of all non-overlapping matches of a regular expression in a string. The structure of the resulting list depends on the number of capturing groups in the regular expression:\n",
    "\n",
    "If the regular expression contains no capturing groups, findall() returns a list of strings, where each string represents a match of the regular expression.\n",
    "\n",
    "If the regular expression contains one or more capturing groups, findall() returns a list of tuples, where each tuple represents a match of the regular expression, and each element of the tuple corresponds to one of the capturing groups."
   ]
  },
  {
   "cell_type": "markdown",
   "id": "a872c4bb",
   "metadata": {},
   "source": [
    "### 8. In standard expressions, what does the | character mean?"
   ]
  },
  {
   "cell_type": "markdown",
   "id": "c4ae051e",
   "metadata": {},
   "source": [
    "In standard regular expressions, the | character is a logical OR operator, which allows you to match either one pattern or another. It's called a pipe character or alternation."
   ]
  },
  {
   "cell_type": "markdown",
   "id": "6d035fb0",
   "metadata": {},
   "source": [
    "### 9. In regular expressions, what does the character stand for?"
   ]
  },
  {
   "cell_type": "markdown",
   "id": "2a9c8040",
   "metadata": {},
   "source": [
    "In regular expressions, the dot . character is called a \"wildcard\" or \"dot metacharacter\", and it matches any single character except for a newline character. It can be used to represent any character in a pattern, and can be used to match a wide variety of different strings."
   ]
  },
  {
   "cell_type": "markdown",
   "id": "b3a4ab5a",
   "metadata": {},
   "source": [
    "### 10.In regular expressions, what is the difference between the + and * characters?"
   ]
  },
  {
   "cell_type": "markdown",
   "id": "909ea27b",
   "metadata": {},
   "source": [
    "In regular expressions, the + and * characters are both quantifiers that specify how many times the preceding character or group should be matched.\n",
    "\n",
    "The * (asterisk) matches zero or more occurrences of the preceding character or group. For example, the regular expression ab*c would match strings that have an a, followed by zero or more b characters, followed by a c. This would match strings like ac, abc, abbc, abbbc, and so on.\n",
    "\n",
    "The + (plus) matches one or more occurrences of the preceding character or group. For example, the regular expression ab+c would match strings that have an a, followed by one or more b characters, followed by a c. This would match strings like abc, abbc, abbbc, and so on, but would not match the string ac."
   ]
  },
  {
   "cell_type": "markdown",
   "id": "8e806b33",
   "metadata": {},
   "source": [
    "### 11. What is the difference between {4} and {4,5} in regular expression?"
   ]
  },
  {
   "cell_type": "markdown",
   "id": "20185e02",
   "metadata": {},
   "source": [
    "The {4} specifies that the preceding character or group should be matched exactly 4 times. For example, the regular expression a{4} would match strings that have four consecutive a characters.\n",
    "\n",
    "The {4,5} specifies that the preceding character or group should be matched between 4 and 5 times. For example, the regular expression a{4,5} would match strings that have either four or five consecutive a characters."
   ]
  },
  {
   "cell_type": "markdown",
   "id": "d8f93c47",
   "metadata": {},
   "source": [
    "### 12. What do you mean by the \\d, \\w, and \\s shorthand character classes signify in regular expressions?"
   ]
  },
  {
   "cell_type": "markdown",
   "id": "5477c7f0",
   "metadata": {},
   "source": [
    "In regular expressions, \\d, \\w, and \\s are shorthand character classes that match certain types of characters:\n",
    "\n",
    "\\d matches any digit character, equivalent to the character class [0-9].\n",
    "\n",
    "\\w matches any word character, which includes alphanumeric characters and underscore (_), equivalent to the character class [a-zA-Z0-9_].\n",
    "\n",
    "\\s matches any whitespace character, including space, tab, and newline."
   ]
  },
  {
   "cell_type": "markdown",
   "id": "2e1074f7",
   "metadata": {},
   "source": [
    "### 14. What is the difference between .* ? and .*  .?"
   ]
  },
  {
   "cell_type": "markdown",
   "id": "417e1216",
   "metadata": {},
   "source": [
    ".* ? is a non-greedy match for any character (except a newline), repeated zero or more times. The ? makes the * quantifier lazy, which means it will match as few characters as possible to satisfy the pattern. For example, in the string abcdef, the pattern a.*?d would match only abcd, not the entire string abcdef.\n",
    "\n",
    ".* is a greedy match for any character (except a newline), repeated zero or more times. The * quantifier is greedy by default, which means it will match as many characters as possible to satisfy the pattern. For example, in the string abcdef, the pattern a.*d would match the entire string abcdef."
   ]
  },
  {
   "cell_type": "markdown",
   "id": "75732865",
   "metadata": {},
   "source": [
    "### 15. What is the syntax for matching both numbers and lowercase letters with a character class?"
   ]
  },
  {
   "cell_type": "markdown",
   "id": "72762108",
   "metadata": {},
   "source": [
    "To match both numbers and lowercase letters with a character class, you can use the following syntax: [0-9a-z]"
   ]
  },
  {
   "cell_type": "markdown",
   "id": "a2a4276f",
   "metadata": {},
   "source": [
    "### 16. What is the procedure for making a normal expression in regax case insensitive?"
   ]
  },
  {
   "cell_type": "markdown",
   "id": "4cc6f317",
   "metadata": {},
   "source": [
    "To make a regular expression in regex case-insensitive, you can add the \"re.IGNORECASE\" or \"re.I\" flag as the second argument to the re.compile() function. Here's an example:"
   ]
  },
  {
   "cell_type": "code",
   "execution_count": 10,
   "id": "5067b24a",
   "metadata": {},
   "outputs": [
    {
     "name": "stdout",
     "output_type": "stream",
     "text": [
      "['Hello', 'hello']\n"
     ]
    }
   ],
   "source": [
    "pattern = re.compile(r\"hello\", re.IGNORECASE)\n",
    "matches = pattern.findall(\"Hello World, hello there!\")\n",
    "print(matches)  "
   ]
  },
  {
   "cell_type": "markdown",
   "id": "58874d41",
   "metadata": {},
   "source": [
    "### 17. What does the . character normally match? What does it match if re.DOTALL is passed as 2nd argument in re.compile()?"
   ]
  },
  {
   "cell_type": "markdown",
   "id": "4b944646",
   "metadata": {},
   "source": [
    "In regular expressions, the . character normally matches any character except a newline character. However, if re.DOTALL is passed as the second argument in re.compile(), then the . character will match any character, including a newline character."
   ]
  },
  {
   "cell_type": "markdown",
   "id": "701483e3",
   "metadata": {},
   "source": [
    "### 18. If numReg = re.compile(r'\\d+'), what will numRegex.sub('X', '11 drummers, 10 pipers, five rings, 4 hen') return?"
   ]
  },
  {
   "cell_type": "markdown",
   "id": "64e110b3",
   "metadata": {},
   "source": [
    "The sub() method of a regular expression object in Python replaces all occurrences of the pattern in a string with a new string. In this case, numRegex.sub('X', '11 drummers, 10 pipers, five rings, 4 hen') will replace all occurrences of one or more digits with the character 'X' in the input string '11 drummers, 10 pipers, five rings, 4 hen'. Therefore, the return value will be the following string:\n",
    "\n",
    "'X drummers, X pipers, five rings, X hen'"
   ]
  },
  {
   "cell_type": "markdown",
   "id": "9884c668",
   "metadata": {},
   "source": [
    "### 19. What does passing re.VERBOSE as the 2nd argument to re.compile() allow to do?"
   ]
  },
  {
   "cell_type": "markdown",
   "id": "83982146",
   "metadata": {},
   "source": [
    "Passing re.VERBOSE as the second argument to re.compile() allows you to write regular expressions that are easier to read and understand by allowing you to add whitespace and comments.\n",
    "\n",
    "Normally, whitespace and comments are ignored in regular expressions, and you have to use backslashes to escape any whitespace or comment characters if you want to include them in the expression. However, with re.VERBOSE, you can add whitespace and comments to your regular expression without affecting its meaning."
   ]
  },
  {
   "cell_type": "markdown",
   "id": "b21b9e24",
   "metadata": {},
   "source": [
    "### 20. How would you write a regex that match a number with comma for every three digits? It must match the given following:\n",
    "#### '42'\n",
    "#### '1,234'\n",
    "#### '6,368,745'\n",
    "#### but not the following:\n",
    "#### '12,34,567' (which has only two digits between the commas)\n",
    "#### '1234' (which lacks commas)\n"
   ]
  },
  {
   "cell_type": "code",
   "execution_count": 11,
   "id": "115573d5",
   "metadata": {},
   "outputs": [
    {
     "name": "stdout",
     "output_type": "stream",
     "text": [
      "<re.Match object; span=(0, 2), match='42'>\n",
      "<re.Match object; span=(0, 5), match='1,234'>\n",
      "<re.Match object; span=(0, 9), match='6,368,745'>\n",
      "None\n",
      "None\n"
     ]
    }
   ],
   "source": [
    "import re\n",
    "\n",
    "regex = re.compile(r'^\\d{1,3}(,\\d{3})*$')\n",
    "\n",
    "print(regex.match('42'))           \n",
    "print(regex.match('1,234'))       \n",
    "print(regex.match('6,368,745'))    \n",
    "print(regex.match('12,34,567'))    \n",
    "print(regex.match('1234'))"
   ]
  },
  {
   "cell_type": "markdown",
   "id": "310ddad1",
   "metadata": {},
   "source": [
    "### 21. How would you write a regex that matches the full name of someone whose last name is Watanabe? You can assume that the first name that comes before it will always be one word that begins with a capital letter. The regex must match the following:\n",
    "#### 'Haruto Watanabe'\n",
    "#### 'Alice Watanabe'\n",
    "#### 'RoboCop Watanabe'\n",
    "#### but not the following:\n",
    "#### 'haruto Watanabe' (where the first name is not capitalized)\n",
    "#### 'Mr. Watanabe' (where the preceding word has a nonletter character)\n",
    "#### 'Watanabe' (which has no first name)\n",
    "#### 'Haruto watanabe' (where Watanabe is not capitalized)\n"
   ]
  },
  {
   "cell_type": "code",
   "execution_count": 15,
   "id": "ea181c25",
   "metadata": {},
   "outputs": [
    {
     "name": "stdout",
     "output_type": "stream",
     "text": [
      "Haruto Watanabe\n",
      "Alice Watanabe\n",
      "RoboCop Watanabe\n"
     ]
    }
   ],
   "source": [
    "names = ['Haruto Watanabe', 'Alice Watanabe', 'RoboCop Watanabe', 'haruto Watanabe', 'Mr. Watanabe', 'Watanabe', 'Haruto watanabe']\n",
    "\n",
    "regex = re.compile('[A-Z][a-z]*\\sWatanabe$')\n",
    "\n",
    "for name in names:\n",
    "    if regex.search(name):\n",
    "        print(name)"
   ]
  },
  {
   "cell_type": "markdown",
   "id": "e052f2bc",
   "metadata": {},
   "source": [
    "### 22. How would you write a regex that matches a sentence where the first word is either Alice, Bob, or Carol; the second word is either eats, pets, or throws; the third word is apples, cats, or baseballs; and the sentence ends with a period? This regex should be case-insensitive. It must match the following:\n",
    "#### 'Alice eats apples.'\n",
    "#### 'Bob pets cats.'\n",
    "#### 'Carol throws baseballs.'\n",
    "#### 'Alice throws Apples.'\n",
    "#### 'BOB EATS CATS.'\n",
    "#### but not the following:\n",
    "#### 'RoboCop eats apples.'\n",
    "#### 'ALICE THROWS FOOTBALLS.'\n",
    "#### 'Carol eats 7 cats.'\n"
   ]
  },
  {
   "cell_type": "code",
   "execution_count": 14,
   "id": "944ef349",
   "metadata": {},
   "outputs": [
    {
     "name": "stdout",
     "output_type": "stream",
     "text": [
      "['Alice eats apples.', 'Bob pets cats.', 'Carol throws baseballs.', 'Alice throws Apples.', 'BOB EATS CATS.']\n"
     ]
    }
   ],
   "source": [
    "\n",
    "pattern = re.compile(r'^(Alice|Bob|Carol)\\s+(eats|pets|throws)\\s+(apples|cats|baseballs)\\.$', re.IGNORECASE)\n",
    "\n",
    "# Define the example sentences\n",
    "sentences = [\n",
    "    'Alice eats apples.',\n",
    "    'Bob pets cats.',\n",
    "    'Carol throws baseballs.',\n",
    "    'Alice throws Apples.',\n",
    "    'BOB EATS CATS.',\n",
    "    'RoboCop eats apples.',\n",
    "    'ALICE THROWS FOOTBALLS.',\n",
    "    'Carol eats 7 cats.',\n",
    "]\n",
    "\n",
    "# Find all matching sentences\n",
    "matching_sentences = []\n",
    "for sentence in sentences:\n",
    "    if pattern.search(sentence):\n",
    "        matching_sentences.append(sentence)\n",
    "\n",
    "# Print the matching sentences\n",
    "print(matching_sentences)"
   ]
  }
 ],
 "metadata": {
  "kernelspec": {
   "display_name": "Python 3 (ipykernel)",
   "language": "python",
   "name": "python3"
  },
  "language_info": {
   "codemirror_mode": {
    "name": "ipython",
    "version": 3
   },
   "file_extension": ".py",
   "mimetype": "text/x-python",
   "name": "python",
   "nbconvert_exporter": "python",
   "pygments_lexer": "ipython3",
   "version": "3.9.7"
  }
 },
 "nbformat": 4,
 "nbformat_minor": 5
}
