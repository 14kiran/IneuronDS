{
 "cells": [
  {
   "cell_type": "markdown",
   "id": "08bb7f53",
   "metadata": {},
   "source": [
    "### 1. Why are functions advantageous to have in your programs?"
   ]
  },
  {
   "cell_type": "markdown",
   "id": "244e854d",
   "metadata": {},
   "source": [
    "Functions enable reuse of code, improve maintainability and scalability. It also helps to write to avoid from duplicacy."
   ]
  },
  {
   "cell_type": "markdown",
   "id": "a8cb5251",
   "metadata": {},
   "source": [
    "### 2. When does the code in a function run: when it's specified or when it's called?"
   ]
  },
  {
   "cell_type": "markdown",
   "id": "a090eb41",
   "metadata": {},
   "source": [
    "When its called."
   ]
  },
  {
   "cell_type": "markdown",
   "id": "9c6e67ed",
   "metadata": {},
   "source": [
    "### 3. What statement creates a function?"
   ]
  },
  {
   "cell_type": "markdown",
   "id": "ce24253c",
   "metadata": {},
   "source": [
    "The “def” keyword is a statement for defining a function in Python.   "
   ]
  },
  {
   "cell_type": "code",
   "execution_count": 11,
   "id": "c8f34560",
   "metadata": {},
   "outputs": [],
   "source": [
    "#Example:-\n",
    "def Addition(a,b):\n",
    "        c = a+b\n",
    "        print(c)\n",
    "      \n",
    "    "
   ]
  },
  {
   "cell_type": "markdown",
   "id": "9bfdf62f",
   "metadata": {},
   "source": [
    "### 4. What is the difference between a function and a function call?"
   ]
  },
  {
   "cell_type": "markdown",
   "id": "02d9b989",
   "metadata": {},
   "source": [
    "Function - A function is a block of code that does a particular operation and returns a result. It usually accepts inputs as parameters and returns a result. The parameters are not mandatory.     \n",
    "Example - def Addition(a,b):    \n",
    "             c = a+b  \n",
    "             print(c)  \n",
    "Function Call - A function call is the code used to pass control to a function.  \n",
    "Example - Addition(2,4)  \n",
    "               6  "
   ]
  },
  {
   "cell_type": "markdown",
   "id": "4dc339db",
   "metadata": {},
   "source": [
    "### 5. How many global scopes are there in a Python program? How many local scopes?"
   ]
  },
  {
   "cell_type": "markdown",
   "id": "affc3f67",
   "metadata": {},
   "source": [
    "There's only one global Python scope per program execution. This scope remains in existence until the program terminates , and a local scope is created whenever a function is called."
   ]
  },
  {
   "cell_type": "markdown",
   "id": "04aeb745",
   "metadata": {},
   "source": [
    "### 6. What happens to variables in a local scope when the function call returns?"
   ]
  },
  {
   "cell_type": "markdown",
   "id": "ecaa8495",
   "metadata": {},
   "source": [
    "When the execution of the function terminates (returns), the local variables are destroyed. "
   ]
  },
  {
   "cell_type": "markdown",
   "id": "4d88d2b1",
   "metadata": {},
   "source": [
    "### 7. What is the concept of a return value? Is it possible to have a return value in an expression?"
   ]
  },
  {
   "cell_type": "markdown",
   "id": "9d32df64",
   "metadata": {},
   "source": [
    " A return value is the value that a function call evaluates to. Like any value, a return value can be used as part of an expression."
   ]
  },
  {
   "cell_type": "markdown",
   "id": "56a9881e",
   "metadata": {},
   "source": [
    "### 8. If a function does not have a return statement, what is the return value of a call to that function?"
   ]
  },
  {
   "cell_type": "markdown",
   "id": "6d7a1fb2",
   "metadata": {},
   "source": [
    "If function has no return value it will not return anything. In this case, the return value of the called function is undefined."
   ]
  },
  {
   "cell_type": "markdown",
   "id": "ec4136a0",
   "metadata": {},
   "source": [
    "### 9. How do you make a function variable refer to the global variable?"
   ]
  },
  {
   "cell_type": "markdown",
   "id": "44647ed0",
   "metadata": {},
   "source": [
    "To make function variable as a global variable you can use the global keyword to declare which variables are global."
   ]
  },
  {
   "cell_type": "markdown",
   "id": "f09061dd",
   "metadata": {},
   "source": [
    "### 10. What is the data type of None?"
   ]
  },
  {
   "cell_type": "markdown",
   "id": "a630bd76",
   "metadata": {},
   "source": [
    "NoneType Data type."
   ]
  },
  {
   "cell_type": "markdown",
   "id": "b212d751",
   "metadata": {},
   "source": [
    "### 11. What does the sentence import areallyourpetsnamederic do?"
   ]
  },
  {
   "cell_type": "markdown",
   "id": "01924c3c",
   "metadata": {},
   "source": [
    "That import statement imports a module named areallyourpetsnamederic. (But a module of this name doesnt exists in Python)"
   ]
  },
  {
   "cell_type": "markdown",
   "id": "ba240667",
   "metadata": {},
   "source": [
    "### 12. If you had a bacon() feature in a spam module, what would you call it after importing spam?"
   ]
  },
  {
   "cell_type": "markdown",
   "id": "d24478cf",
   "metadata": {},
   "source": [
    "import spam   \n",
    "spam.bacon()"
   ]
  },
  {
   "cell_type": "markdown",
   "id": "86c34a80",
   "metadata": {},
   "source": [
    "### 13. What can you do to save a programme from crashing if it encounters an error?"
   ]
  },
  {
   "cell_type": "markdown",
   "id": "f5a1a29e",
   "metadata": {},
   "source": [
    "We can use try except clause to save a program from crashing."
   ]
  },
  {
   "cell_type": "markdown",
   "id": "c3005e42",
   "metadata": {},
   "source": [
    "### 14. What is the purpose of the try clause? What is the purpose of the except clause?"
   ]
  },
  {
   "cell_type": "markdown",
   "id": "0acd0993",
   "metadata": {},
   "source": [
    "Try and Except clause is used to handle the errors within our code, its a excpetional handling part . The try block is used to check some code for errors i.e the code inside the try block will execute when there is no error in the program. Whereas the code inside the except block will execute whenever the program encounters some error in the try block.\n",
    "\n",
    "Eg. try:\n",
    "\n",
    " Code <br>\n",
    "except:\n",
    "\n",
    " Executed if error in the<br>\n",
    " try block"
   ]
  },
  {
   "cell_type": "code",
   "execution_count": null,
   "id": "ec8f83c6",
   "metadata": {},
   "outputs": [],
   "source": []
  }
 ],
 "metadata": {
  "kernelspec": {
   "display_name": "Python 3 (ipykernel)",
   "language": "python",
   "name": "python3"
  },
  "language_info": {
   "codemirror_mode": {
    "name": "ipython",
    "version": 3
   },
   "file_extension": ".py",
   "mimetype": "text/x-python",
   "name": "python",
   "nbconvert_exporter": "python",
   "pygments_lexer": "ipython3",
   "version": "3.9.7"
  }
 },
 "nbformat": 4,
 "nbformat_minor": 5
}
