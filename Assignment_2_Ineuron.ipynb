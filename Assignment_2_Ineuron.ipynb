{
 "cells": [
  {
   "cell_type": "markdown",
   "id": "c3de83e8",
   "metadata": {},
   "source": [
    "\n",
    "### 1.What are the two values of the Boolean data type? How do you write them?"
   ]
  },
  {
   "cell_type": "markdown",
   "id": "b0cd79a4",
   "metadata": {},
   "source": [
    "There are two types of boolean True of False.\n",
    "The result of a Boolean expression is either true or false.\n",
    "The Value for True is 1 and False 0."
   ]
  },
  {
   "cell_type": "markdown",
   "id": "97bb78d8",
   "metadata": {},
   "source": [
    "### 2. What are the three different types of Boolean operators?"
   ]
  },
  {
   "cell_type": "markdown",
   "id": "16d8966a",
   "metadata": {},
   "source": [
    "#### And, OR and Not are three boolean operators.\n",
    "And - Find all the Specified elements.\n",
    "OR - Find One or Other specified element.\n",
    "Not - Eliminates all the specified items."
   ]
  },
  {
   "cell_type": "markdown",
   "id": "f154a003",
   "metadata": {},
   "source": [
    "### 3. Make a list of each Boolean operator's truth tables (i.e. every possible combination of Boolean values for the operator and what it evaluate ).\n"
   ]
  },
  {
   "cell_type": "markdown",
   "id": "8571c4d2",
   "metadata": {},
   "source": [
    "True or True - True   \n",
    "True or False - True   \n",
    "False or False - False   \n",
    "False or True - True   \n",
    "True and True - True  \n",
    "True and False - False  \n",
    "False and False - False  \n",
    "False and True - False  \n",
    "\n",
    "1 or 1 - 1  \n",
    "1 or 0 - 1  \n",
    "0 or 1 - 1  \n",
    "0 or 0 - 0  \n",
    "1 and 1 - 1  \n",
    "1 and 0 - 0  \n",
    "0 and 1 - 0  \n",
    "0 and 0 - 0  "
   ]
  },
  {
   "cell_type": "markdown",
   "id": "3eb38b91",
   "metadata": {},
   "source": [
    "### 4. What are the values of the following expressions?\n",
    "###### (5 &gt; 4) and (3 == 5) \n",
    "###### not (5 &gt; 4) \n",
    "##### (5 &gt; 4) or (3 == 5) \n",
    "##### not ((5 &gt; 4) or (3 == 5)) \n",
    "##### (True and True) and (True == False) \n",
    "##### (not False) or (not True) "
   ]
  },
  {
   "cell_type": "code",
   "execution_count": 20,
   "id": "cbe9a82f",
   "metadata": {},
   "outputs": [
    {
     "data": {
      "text/plain": [
       "False"
      ]
     },
     "execution_count": 20,
     "metadata": {},
     "output_type": "execute_result"
    }
   ],
   "source": [
    "(5 > 4) and (3 == 5) "
   ]
  },
  {
   "cell_type": "code",
   "execution_count": 14,
   "id": "5edcbe41",
   "metadata": {},
   "outputs": [
    {
     "data": {
      "text/plain": [
       "False"
      ]
     },
     "execution_count": 14,
     "metadata": {},
     "output_type": "execute_result"
    }
   ],
   "source": [
    "not (5>4)"
   ]
  },
  {
   "cell_type": "code",
   "execution_count": 15,
   "id": "97fb3b14",
   "metadata": {},
   "outputs": [
    {
     "data": {
      "text/plain": [
       "True"
      ]
     },
     "execution_count": 15,
     "metadata": {},
     "output_type": "execute_result"
    }
   ],
   "source": [
    "(5> 4) or (3 == 5) "
   ]
  },
  {
   "cell_type": "code",
   "execution_count": 22,
   "id": "f709185d",
   "metadata": {},
   "outputs": [
    {
     "data": {
      "text/plain": [
       "False"
      ]
     },
     "execution_count": 22,
     "metadata": {},
     "output_type": "execute_result"
    }
   ],
   "source": [
    "not ((5 > 4) or (3 == 5))"
   ]
  },
  {
   "cell_type": "code",
   "execution_count": 17,
   "id": "3e71a736",
   "metadata": {},
   "outputs": [
    {
     "data": {
      "text/plain": [
       "False"
      ]
     },
     "execution_count": 17,
     "metadata": {},
     "output_type": "execute_result"
    }
   ],
   "source": [
    "(True and True) and (True == False)"
   ]
  },
  {
   "cell_type": "code",
   "execution_count": 18,
   "id": "f57fd623",
   "metadata": {},
   "outputs": [
    {
     "data": {
      "text/plain": [
       "True"
      ]
     },
     "execution_count": 18,
     "metadata": {},
     "output_type": "execute_result"
    }
   ],
   "source": [
    "(not False) or (not True)"
   ]
  },
  {
   "cell_type": "markdown",
   "id": "0de8e380",
   "metadata": {},
   "source": [
    "### 5. What are the six comparison operators?"
   ]
  },
  {
   "cell_type": "markdown",
   "id": "50c27046",
   "metadata": {},
   "source": [
    "###### >  \n",
    "###### <  \n",
    "###### =  \n",
    "###### ==  \n",
    "###### <= \n",
    "###### >= \n",
    "###### != \n"
   ]
  },
  {
   "cell_type": "markdown",
   "id": "994cd120",
   "metadata": {},
   "source": [
    "### 6. How do you tell the difference between the equal to and assignment operators?Describe a condition and when you would use one."
   ]
  },
  {
   "cell_type": "markdown",
   "id": "ee9c4b81",
   "metadata": {},
   "source": [
    " Eqaual to('==') is a comparison operator while '=' is a assigment.     \n",
    " Eqaul to used to check the eqaul condition for eg a == 1. means a is eqaul to 1 or not.      \n",
    " Assignment is used to assign the value a = 1 means the value of a is 1.   \n",
    " "
   ]
  },
  {
   "cell_type": "markdown",
   "id": "be5e9093",
   "metadata": {},
   "source": [
    "### 7. Identify the three blocks in this code:\n",
    "###### spam = 0\n",
    "###### if spam == 10:\n",
    "###### print(&#39;eggs&#39;)\n",
    "###### if spam &gt; 5:\n",
    "###### print(&#39;bacon&#39;)\n",
    "###### else:\n",
    "###### print(&#39;ham&#39;)\n",
    "###### print(&#39;spam&#39;)\n",
    "###### print(&#39;spam&#39;)"
   ]
  },
  {
   "cell_type": "code",
   "execution_count": 60,
   "id": "3389a979",
   "metadata": {},
   "outputs": [
    {
     "name": "stdout",
     "output_type": "stream",
     "text": [
      "ham\n",
      "spam\n",
      "spam\n"
     ]
    }
   ],
   "source": [
    "spam = 0\n",
    "if spam  == 10:  \n",
    "    print('eggs')    #1 Block\n",
    "if spam>5:\n",
    "        print('bacon')   #2 Block\n",
    "else:\n",
    "        print('ham')   # 3 Block\n",
    "        print('spam')\n",
    "        print('spam')"
   ]
  },
  {
   "cell_type": "markdown",
   "id": "c8caf5d1",
   "metadata": {},
   "source": [
    "### 8. Write code that prints Hello if 1 is stored in spam, prints Howdy if 2 is stored in spam, and prints Greetings! if anything else is stored in spam."
   ]
  },
  {
   "cell_type": "code",
   "execution_count": 59,
   "id": "599d6750",
   "metadata": {},
   "outputs": [
    {
     "name": "stdout",
     "output_type": "stream",
     "text": [
      "Greeting\n"
     ]
    }
   ],
   "source": [
    "if spam == 1:\n",
    "    print(\"Hello\")\n",
    "    \n",
    "elif spam == 2:\n",
    "        print(\"Howdy\")\n",
    "        \n",
    "else:\n",
    "     print(\"Greeting\")"
   ]
  },
  {
   "cell_type": "markdown",
   "id": "87a38793",
   "metadata": {},
   "source": [
    "### 9.If your programme is stuck in an endless loop, what keys you’ll press?\n",
    "#### Ctrl + C"
   ]
  },
  {
   "cell_type": "markdown",
   "id": "e9bb2db4",
   "metadata": {},
   "source": [
    "### 10. How can you tell the difference between break and continue?"
   ]
  },
  {
   "cell_type": "markdown",
   "id": "24bb6de3",
   "metadata": {},
   "source": [
    "Break = Break statement terminate the code.     \n",
    "Continue = Continue again go to loop for thr next iteration.    "
   ]
  },
  {
   "cell_type": "markdown",
   "id": "b8f0918a",
   "metadata": {},
   "source": [
    "### 11. In a for loop, what is the difference between range(10), range(0, 10), and range(0, 10, 1)?"
   ]
  },
  {
   "cell_type": "code",
   "execution_count": 53,
   "id": "85e9982e",
   "metadata": {},
   "outputs": [
    {
     "name": "stdout",
     "output_type": "stream",
     "text": [
      "0\n",
      "1\n",
      "2\n",
      "3\n",
      "4\n",
      "5\n",
      "6\n",
      "7\n",
      "8\n",
      "9\n",
      "0\n",
      "1\n",
      "2\n",
      "3\n",
      "4\n",
      "5\n",
      "6\n",
      "7\n",
      "8\n",
      "9\n",
      "0\n",
      "1\n",
      "2\n",
      "3\n",
      "4\n",
      "5\n",
      "6\n",
      "7\n",
      "8\n",
      "9\n"
     ]
    }
   ],
   "source": [
    "for i in range(10):\n",
    "    print(i)\n",
    "for i in range(0,10):\n",
    "    print(i)\n",
    "for i in range(0,10,1):\n",
    "    print(i)"
   ]
  },
  {
   "cell_type": "markdown",
   "id": "34d928f9",
   "metadata": {},
   "source": [
    "We can say all are working same.  range(starting, ending, jump)     \n",
    "range(10)- by default start with 0 and jump with 1.     \n",
    "range(0,10)- starting with 0 as specified and by default jump with 0   \n",
    "range(0,10,1)- all the start end and jump are specified.  "
   ]
  },
  {
   "cell_type": "markdown",
   "id": "3a520f23",
   "metadata": {},
   "source": [
    "### 12. Write a short program that prints the numbers 1 to 10 using a for loop. Then write an equivalent program that prints the numbers 1 to 10 using a while loop."
   ]
  },
  {
   "cell_type": "code",
   "execution_count": 56,
   "id": "3159e379",
   "metadata": {},
   "outputs": [
    {
     "name": "stdout",
     "output_type": "stream",
     "text": [
      "1\n",
      "2\n",
      "3\n",
      "4\n",
      "5\n",
      "6\n",
      "7\n",
      "8\n",
      "9\n",
      "10\n"
     ]
    }
   ],
   "source": [
    "for i in range(1,11):\n",
    "    print(i)"
   ]
  },
  {
   "cell_type": "code",
   "execution_count": 58,
   "id": "6e4dcd27",
   "metadata": {},
   "outputs": [
    {
     "name": "stdout",
     "output_type": "stream",
     "text": [
      "1\n",
      "2\n",
      "3\n",
      "4\n",
      "5\n",
      "6\n",
      "7\n",
      "8\n",
      "9\n",
      "10\n"
     ]
    }
   ],
   "source": [
    "a = 0\n",
    "while a < 10:\n",
    "    a = a+1\n",
    "    print(a)"
   ]
  },
  {
   "cell_type": "markdown",
   "id": "4b031ff8",
   "metadata": {},
   "source": [
    "### 13. If you had a function named bacon() inside a module named spam, how would you call it after importing spam?\n",
    "#### Spam.bacon()"
   ]
  },
  {
   "cell_type": "code",
   "execution_count": null,
   "id": "790ea7e3",
   "metadata": {},
   "outputs": [],
   "source": []
  }
 ],
 "metadata": {
  "kernelspec": {
   "display_name": "Python 3 (ipykernel)",
   "language": "python",
   "name": "python3"
  },
  "language_info": {
   "codemirror_mode": {
    "name": "ipython",
    "version": 3
   },
   "file_extension": ".py",
   "mimetype": "text/x-python",
   "name": "python",
   "nbconvert_exporter": "python",
   "pygments_lexer": "ipython3",
   "version": "3.9.7"
  }
 },
 "nbformat": 4,
 "nbformat_minor": 5
}
