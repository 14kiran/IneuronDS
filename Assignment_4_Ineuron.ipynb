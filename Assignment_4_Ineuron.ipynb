{
 "cells": [
  {
   "cell_type": "markdown",
   "id": "187bb4ec",
   "metadata": {},
   "source": [
    "### 1. What exactly is []?"
   ]
  },
  {
   "cell_type": "markdown",
   "id": "1db0aa70",
   "metadata": {},
   "source": [
    "It as emplty list. [] denotes to store the data in list type data structure.  \n",
    "eg- a = [1,3,4]"
   ]
  },
  {
   "cell_type": "markdown",
   "id": "8496bb65",
   "metadata": {},
   "source": [
    "### 2. In a list of values stored in a variable called spam, how would you assign the value &#39;hello&#39; as the third value? (Assume [2, 4, 6, 8, 10] are in spam.)"
   ]
  },
  {
   "cell_type": "code",
   "execution_count": 4,
   "id": "71b1446e",
   "metadata": {},
   "outputs": [
    {
     "data": {
      "text/plain": [
       "[2, 4, 'hello', 8, 10]"
      ]
     },
     "execution_count": 4,
     "metadata": {},
     "output_type": "execute_result"
    }
   ],
   "source": [
    "spam = [2,4,6,8,10]\n",
    "spam[2] = 'hello'\n",
    "spam"
   ]
  },
  {
   "cell_type": "markdown",
   "id": "09b761d6",
   "metadata": {},
   "source": [
    "### 3. What is the value of spam[int(int(&#39;3&#39; * 2) / 11)]?"
   ]
  },
  {
   "cell_type": "code",
   "execution_count": 5,
   "id": "614da5c6",
   "metadata": {},
   "outputs": [
    {
     "data": {
      "text/plain": [
       "'d'"
      ]
     },
     "execution_count": 5,
     "metadata": {},
     "output_type": "execute_result"
    }
   ],
   "source": [
    "spam = ['a','b','c','d']\n",
    "spam[int(int('3' * 2) / 11)]\n"
   ]
  },
  {
   "cell_type": "markdown",
   "id": "8500caad",
   "metadata": {},
   "source": [
    "### 4. What is the value of spam[-1]?"
   ]
  },
  {
   "cell_type": "code",
   "execution_count": 6,
   "id": "f83a7ef6",
   "metadata": {},
   "outputs": [
    {
     "data": {
      "text/plain": [
       "'d'"
      ]
     },
     "execution_count": 6,
     "metadata": {},
     "output_type": "execute_result"
    }
   ],
   "source": [
    "spam[-1]"
   ]
  },
  {
   "cell_type": "markdown",
   "id": "c690edc1",
   "metadata": {},
   "source": [
    "### 5. What is the value of spam[:2]?"
   ]
  },
  {
   "cell_type": "code",
   "execution_count": 7,
   "id": "58f8a110",
   "metadata": {},
   "outputs": [
    {
     "data": {
      "text/plain": [
       "['a', 'b']"
      ]
     },
     "execution_count": 7,
     "metadata": {},
     "output_type": "execute_result"
    }
   ],
   "source": [
    "spam[:2]"
   ]
  },
  {
   "cell_type": "markdown",
   "id": "bc4e9dc1",
   "metadata": {},
   "source": [
    "### 6. What is the value of bacon.index('cat')?"
   ]
  },
  {
   "cell_type": "code",
   "execution_count": 19,
   "id": "83bcf0e0",
   "metadata": {},
   "outputs": [
    {
     "data": {
      "text/plain": [
       "1"
      ]
     },
     "execution_count": 19,
     "metadata": {},
     "output_type": "execute_result"
    }
   ],
   "source": [
    "bacon = [3.14, 'cat', 11, 'cat', True]\n",
    "bacon.index('cat')"
   ]
  },
  {
   "cell_type": "markdown",
   "id": "e7ae565c",
   "metadata": {},
   "source": [
    "### 7. How does bacon.append(99) change the look of the list value in bacon?"
   ]
  },
  {
   "cell_type": "code",
   "execution_count": 15,
   "id": "91596733",
   "metadata": {},
   "outputs": [
    {
     "data": {
      "text/plain": [
       "[3.14, 'cat', 11, 'cat', True, 99]"
      ]
     },
     "execution_count": 15,
     "metadata": {},
     "output_type": "execute_result"
    }
   ],
   "source": [
    "bacon.append(99)\n",
    "bacon"
   ]
  },
  {
   "cell_type": "markdown",
   "id": "f60cec9e",
   "metadata": {},
   "source": [
    "### 8. How does bacon.remove('cat') change the look of the list in bacon?"
   ]
  },
  {
   "cell_type": "code",
   "execution_count": 20,
   "id": "7475ae18",
   "metadata": {},
   "outputs": [
    {
     "data": {
      "text/plain": [
       "[3.14, 11, 'cat', True]"
      ]
     },
     "execution_count": 20,
     "metadata": {},
     "output_type": "execute_result"
    }
   ],
   "source": [
    "bacon.remove('cat')\n",
    "bacon"
   ]
  },
  {
   "cell_type": "markdown",
   "id": "340e8327",
   "metadata": {},
   "source": [
    "### 9. What are the list concatenation and list replication operators?"
   ]
  },
  {
   "cell_type": "markdown",
   "id": "adf9b1e8",
   "metadata": {},
   "source": [
    " (* ) is list replication operator ( + ) is list concatination operator"
   ]
  },
  {
   "cell_type": "code",
   "execution_count": 22,
   "id": "d776fd3f",
   "metadata": {},
   "outputs": [
    {
     "data": {
      "text/plain": [
       "[1, 2, 3, 1, 2, 3]"
      ]
     },
     "execution_count": 22,
     "metadata": {},
     "output_type": "execute_result"
    }
   ],
   "source": [
    "a = [1,2,3]\n",
    "b = [4,5,6]\n",
    "a* 2 #list replication"
   ]
  },
  {
   "cell_type": "code",
   "execution_count": 25,
   "id": "c37365ce",
   "metadata": {},
   "outputs": [
    {
     "data": {
      "text/plain": [
       "[1, 2, 3, 4, 5, 6]"
      ]
     },
     "execution_count": 25,
     "metadata": {},
     "output_type": "execute_result"
    }
   ],
   "source": [
    "a + b # list concatination"
   ]
  },
  {
   "cell_type": "markdown",
   "id": "6972400f",
   "metadata": {},
   "source": [
    "### 10. What is difference between the list methods append() and insert()?"
   ]
  },
  {
   "cell_type": "markdown",
   "id": "b9c02129",
   "metadata": {},
   "source": [
    "Append is used add the value in existing list at the last index. Insert is used to add the value in specified index."
   ]
  },
  {
   "cell_type": "code",
   "execution_count": 32,
   "id": "4901c46a",
   "metadata": {},
   "outputs": [],
   "source": [
    "a = [1,2,3,4]\n",
    "a.append(10)        # append 10 at end\n",
    "a.insert(2,\"hello\")  # insert hello at 2nd index"
   ]
  },
  {
   "cell_type": "code",
   "execution_count": 33,
   "id": "ca310894",
   "metadata": {},
   "outputs": [
    {
     "data": {
      "text/plain": [
       "[1, 2, 'hello', 3, 4, 10]"
      ]
     },
     "execution_count": 33,
     "metadata": {},
     "output_type": "execute_result"
    }
   ],
   "source": [
    "a"
   ]
  },
  {
   "cell_type": "markdown",
   "id": "71d7323a",
   "metadata": {},
   "source": [
    "### 11. What are the two methods for removing items from a list?"
   ]
  },
  {
   "cell_type": "markdown",
   "id": "b3929f94",
   "metadata": {},
   "source": [
    " remove and pop."
   ]
  },
  {
   "cell_type": "code",
   "execution_count": 34,
   "id": "52389c13",
   "metadata": {},
   "outputs": [
    {
     "data": {
      "text/plain": [
       "[1, 'hello', 3, 4, 10]"
      ]
     },
     "execution_count": 34,
     "metadata": {},
     "output_type": "execute_result"
    }
   ],
   "source": [
    "a.remove(2)\n",
    "a"
   ]
  },
  {
   "cell_type": "code",
   "execution_count": 35,
   "id": "5dfe1bf7",
   "metadata": {},
   "outputs": [
    {
     "data": {
      "text/plain": [
       "10"
      ]
     },
     "execution_count": 35,
     "metadata": {},
     "output_type": "execute_result"
    }
   ],
   "source": [
    "a.pop()"
   ]
  },
  {
   "cell_type": "code",
   "execution_count": 36,
   "id": "0d46d531",
   "metadata": {},
   "outputs": [
    {
     "data": {
      "text/plain": [
       "[1, 'hello', 3, 4]"
      ]
     },
     "execution_count": 36,
     "metadata": {},
     "output_type": "execute_result"
    }
   ],
   "source": [
    "a"
   ]
  },
  {
   "cell_type": "markdown",
   "id": "71b19bb6",
   "metadata": {},
   "source": [
    "### 12. Describe how list values and string values are identical."
   ]
  },
  {
   "cell_type": "markdown",
   "id": "4e553c61",
   "metadata": {},
   "source": [
    "Both lists and strings can be passed to len()  \n",
    "Have indexes and slices  \n",
    "Can be used in for loops   \n",
    "Can be concatenated or replicated  \n",
    "Can be used with the in and not in operators  "
   ]
  },
  {
   "cell_type": "markdown",
   "id": "dec441ec",
   "metadata": {},
   "source": [
    "### 13. What&#39;s the difference between tuples and lists?"
   ]
  },
  {
   "cell_type": "markdown",
   "id": "1d2446dc",
   "metadata": {},
   "source": [
    "Tuples - denotes with open bracket and immutable.  \n",
    "Lists - denotes with square brackets and mutuable."
   ]
  },
  {
   "cell_type": "markdown",
   "id": "e3ed7a3a",
   "metadata": {},
   "source": [
    "### 14. How do you type a tuple value that only contains the integer 42?"
   ]
  },
  {
   "cell_type": "code",
   "execution_count": 38,
   "id": "58178e4d",
   "metadata": {},
   "outputs": [
    {
     "data": {
      "text/plain": [
       "tuple"
      ]
     },
     "execution_count": 38,
     "metadata": {},
     "output_type": "execute_result"
    }
   ],
   "source": [
    "a = (42,)\n",
    "type(a)"
   ]
  },
  {
   "cell_type": "markdown",
   "id": "db820f60",
   "metadata": {},
   "source": [
    "### 15. How do you get a list value&#39;s tuple form? How do you get a tuple value&#39;s list form?"
   ]
  },
  {
   "cell_type": "code",
   "execution_count": 40,
   "id": "e5c9dec5",
   "metadata": {},
   "outputs": [
    {
     "data": {
      "text/plain": [
       "(2, 3)"
      ]
     },
     "execution_count": 40,
     "metadata": {},
     "output_type": "execute_result"
    }
   ],
   "source": [
    "a = [2,3]\n",
    "a = tuple(a)\n",
    "a"
   ]
  },
  {
   "cell_type": "code",
   "execution_count": 41,
   "id": "8e785447",
   "metadata": {},
   "outputs": [
    {
     "data": {
      "text/plain": [
       "[2, 3]"
      ]
     },
     "execution_count": 41,
     "metadata": {},
     "output_type": "execute_result"
    }
   ],
   "source": [
    "b = (2,3)\n",
    "b = list(b)\n",
    "b"
   ]
  },
  {
   "cell_type": "markdown",
   "id": "378f8ed6",
   "metadata": {},
   "source": [
    "### 16. Variables that &quot;contain&quot; list values are not necessarily lists themselves. Instead, what do they contain?"
   ]
  },
  {
   "cell_type": "markdown",
   "id": "aa6e9b35",
   "metadata": {},
   "source": [
    "They contain references to list values."
   ]
  },
  {
   "cell_type": "markdown",
   "id": "c64fd018",
   "metadata": {},
   "source": [
    "### 17. How do you distinguish between copy.copy() and copy.deepcopy()?"
   ]
  },
  {
   "cell_type": "markdown",
   "id": "d85d01a4",
   "metadata": {},
   "source": [
    "The copy.copy() function will do a shallow copy of a list.  \n",
    "The copy.deepcopy() function will do a deep copy of a list. only copy.deepcopy() will duplicate any lists inside the list"
   ]
  },
  {
   "cell_type": "code",
   "execution_count": null,
   "id": "e57860ab",
   "metadata": {},
   "outputs": [],
   "source": []
  }
 ],
 "metadata": {
  "kernelspec": {
   "display_name": "Python 3 (ipykernel)",
   "language": "python",
   "name": "python3"
  },
  "language_info": {
   "codemirror_mode": {
    "name": "ipython",
    "version": 3
   },
   "file_extension": ".py",
   "mimetype": "text/x-python",
   "name": "python",
   "nbconvert_exporter": "python",
   "pygments_lexer": "ipython3",
   "version": "3.9.7"
  }
 },
 "nbformat": 4,
 "nbformat_minor": 5
}
