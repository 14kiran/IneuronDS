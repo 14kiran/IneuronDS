{
 "cells": [
  {
   "cell_type": "markdown",
   "id": "6a717e96",
   "metadata": {},
   "source": [
    "### 1. What are escape characters, and how do you use them?"
   ]
  },
  {
   "cell_type": "markdown",
   "id": "d3b8457f",
   "metadata": {},
   "source": [
    "Escape characters are used to represent special characters that cannot be typed directly in a string. The backslash () is used as the escape character in Python.\n",
    "\n",
    "Here are some examples of commonly used escape characters in Python:\n",
    "\n",
    "\\n: Represents a newline character.\n",
    "\\t: Represents a tab character.\n",
    "\": Represents a double quote character.\n",
    "': Represents a single quote character.\n",
    "\n",
    "Example: print(\"This is a string with a newline character.\\nThis is the second line.\")\n"
   ]
  },
  {
   "cell_type": "markdown",
   "id": "b8f09ffc",
   "metadata": {},
   "source": [
    "### 2. What do the escape characters n and t stand for?"
   ]
  },
  {
   "cell_type": "markdown",
   "id": "f7a164c9",
   "metadata": {},
   "source": [
    "the escape character \\n stands for a newline and \\t stands for a tab.\n",
    "\n",
    "\\n: Inserts a newline character, which causes the text that follows to start on a new line.\n",
    "\\t: Inserts a tab character, which causes the text that follows to be indented to the next tab stop."
   ]
  },
  {
   "cell_type": "markdown",
   "id": "aa4b0671",
   "metadata": {},
   "source": [
    "### 3. What is the way to include backslash characters in a string?"
   ]
  },
  {
   "cell_type": "markdown",
   "id": "65557974",
   "metadata": {},
   "source": [
    "print(\"This is a backslash: \\\\\")"
   ]
  },
  {
   "cell_type": "markdown",
   "id": "72d92114",
   "metadata": {},
   "source": [
    "### 4. The string \"Howl's Moving Castle\" is a correct value. Why isn't the single quote character in the word Howl's not escaped a problem?"
   ]
  },
  {
   "cell_type": "markdown",
   "id": "346eb669",
   "metadata": {},
   "source": [
    "The single quote character in the string \"Howl's Moving Castle\" is not a problem because the string is enclosed in double quotes (\" \"). So in this case, since the string is enclosed in double quotes, the single quote character can be used within the string without any issues. If the string were enclosed in single quotes instead, the single quote character in \"Howl's\" would need to be escaped, like this:\n",
    "\n",
    "\n",
    "\n",
    "\n",
    "\n",
    "\n",
    "\n",
    "\n",
    "\n",
    "\n",
    "\n",
    "\n",
    "\n"
   ]
  },
  {
   "cell_type": "code",
   "execution_count": 9,
   "id": "34f209ea",
   "metadata": {},
   "outputs": [
    {
     "name": "stdout",
     "output_type": "stream",
     "text": [
      "Howl's Moving Castle\n"
     ]
    }
   ],
   "source": [
    "print('Howl\\'s Moving Castle')"
   ]
  },
  {
   "cell_type": "markdown",
   "id": "d102497d",
   "metadata": {},
   "source": [
    "### 5. How do you write a string of newlines if you don't want to use the n character?"
   ]
  },
  {
   "cell_type": "code",
   "execution_count": 11,
   "id": "7c0ada7c",
   "metadata": {},
   "outputs": [
    {
     "name": "stdout",
     "output_type": "stream",
     "text": [
      "Hello\n",
      "world\n"
     ]
    }
   ],
   "source": [
    "print(\"Hello\")\n",
    "print(\"world\")"
   ]
  },
  {
   "cell_type": "markdown",
   "id": "baaf4ba2",
   "metadata": {},
   "source": [
    "### 6. What are the values of the given expressions?\n",
    "##### 'Hello, world!'[1] = 'e'\n",
    "##### 'Hello, world!'[0:5] ='Hello'\n",
    "##### 'Hello, world!'[:5] = 'Hello'\n",
    "##### 'Hello, world!'[3:] = 'lo, world!\n"
   ]
  },
  {
   "cell_type": "markdown",
   "id": "2ded69a8",
   "metadata": {},
   "source": [
    "### 7. What are the values of the following expressions?\n",
    "##### 'Hello'.upper() = HELLO\n",
    "#####  'Hello'.upper().isupper() =True\n",
    "##### 'Hello'.upper().lower() = hello\n",
    "\n"
   ]
  },
  {
   "cell_type": "markdown",
   "id": "a35c9252",
   "metadata": {},
   "source": [
    "### 8. What are the values of the following expressions?\n",
    "##### 'Remember, remember, the fifth of July.'.split() -  '['Remember,', 'remember,', 'the', 'fifth', 'of', 'July.']'\n",
    "##### '-'.join('There can only one.'.split()) - 'There-can-only-one.'\n"
   ]
  },
  {
   "cell_type": "markdown",
   "id": "51a58242",
   "metadata": {},
   "source": [
    "### 9. What are the methods for right-justifying, left-justifying, and centering a string?"
   ]
  },
  {
   "cell_type": "markdown",
   "id": "50a0dc62",
   "metadata": {},
   "source": [
    "There are three built-in methods for justifying a string: ljust(), rjust(), and center(). These methods are available on any string object and can be used to adjust the alignment of text within a fixed-width string."
   ]
  },
  {
   "cell_type": "code",
   "execution_count": 42,
   "id": "24869a30",
   "metadata": {},
   "outputs": [
    {
     "name": "stdout",
     "output_type": "stream",
     "text": [
      "     Hello\n",
      "Hello     \n",
      "  Hello   \n"
     ]
    }
   ],
   "source": [
    "s = 'Hello'\n",
    "print(s.rjust(10)) #left align the word\n",
    "print(s.ljust(10)) # right align the word\n",
    "print(s.center(10)) #center align the word"
   ]
  },
  {
   "cell_type": "markdown",
   "id": "48d34f6d",
   "metadata": {},
   "source": [
    "### 10. What is the best way to remove whitespace characters from the start or end?"
   ]
  },
  {
   "cell_type": "markdown",
   "id": "b1a5b66a",
   "metadata": {},
   "source": [
    "strip([chars]): This method removes whitespace characters from both the start and end of a string.\n"
   ]
  },
  {
   "cell_type": "code",
   "execution_count": 43,
   "id": "c47d08f9",
   "metadata": {},
   "outputs": [
    {
     "data": {
      "text/plain": [
       "'hello'"
      ]
     },
     "execution_count": 43,
     "metadata": {},
     "output_type": "execute_result"
    }
   ],
   "source": [
    "s = '   hello '\n",
    "s.strip()"
   ]
  }
 ],
 "metadata": {
  "kernelspec": {
   "display_name": "Python 3 (ipykernel)",
   "language": "python",
   "name": "python3"
  },
  "language_info": {
   "codemirror_mode": {
    "name": "ipython",
    "version": 3
   },
   "file_extension": ".py",
   "mimetype": "text/x-python",
   "name": "python",
   "nbconvert_exporter": "python",
   "pygments_lexer": "ipython3",
   "version": "3.9.7"
  }
 },
 "nbformat": 4,
 "nbformat_minor": 5
}
